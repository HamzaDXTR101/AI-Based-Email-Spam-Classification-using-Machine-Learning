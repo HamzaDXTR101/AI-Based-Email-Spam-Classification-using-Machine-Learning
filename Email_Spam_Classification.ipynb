{
  "nbformat": 4,
  "nbformat_minor": 0,
  "metadata": {
    "colab": {
      "provenance": [],
      "authorship_tag": "ABX9TyMkVFXsWTEUcE2ZzS3BJM4Z",
      "include_colab_link": true
    },
    "kernelspec": {
      "name": "python3",
      "display_name": "Python 3"
    },
    "language_info": {
      "name": "python"
    }
  },
  "cells": [
    {
      "cell_type": "markdown",
      "metadata": {
        "id": "view-in-github",
        "colab_type": "text"
      },
      "source": [
        "<a href=\"https://colab.research.google.com/github/HamzaDXTR101/AI-Based-Email-Spam-Classification-using-Machine-Learning/blob/main/Email_Spam_Classification.ipynb\" target=\"_parent\"><img src=\"https://colab.research.google.com/assets/colab-badge.svg\" alt=\"Open In Colab\"/></a>"
      ]
    },
    {
      "cell_type": "code",
      "execution_count": null,
      "metadata": {
        "colab": {
          "base_uri": "https://localhost:8080/"
        },
        "id": "hhKVMwDvUrMI",
        "outputId": "977e03a0-20ec-4f67-a78b-c5ed9243d32f"
      },
      "outputs": [
        {
          "output_type": "stream",
          "name": "stdout",
          "text": [
            "Requirement already satisfied: scikit-learn in /usr/local/lib/python3.10/dist-packages (1.2.2)\n",
            "Requirement already satisfied: numpy>=1.17.3 in /usr/local/lib/python3.10/dist-packages (from scikit-learn) (1.23.5)\n",
            "Requirement already satisfied: scipy>=1.3.2 in /usr/local/lib/python3.10/dist-packages (from scikit-learn) (1.11.3)\n",
            "Requirement already satisfied: joblib>=1.1.1 in /usr/local/lib/python3.10/dist-packages (from scikit-learn) (1.3.2)\n",
            "Requirement already satisfied: threadpoolctl>=2.0.0 in /usr/local/lib/python3.10/dist-packages (from scikit-learn) (3.2.0)\n"
          ]
        }
      ],
      "source": [
        "!pip install scikit-learn"
      ]
    },
    {
      "cell_type": "code",
      "source": [
        "from google.colab import userdata\n",
        "import numpy as np\n",
        "import pandas as pd\n",
        "import sklearn\n",
        "from google.colab import drive\n",
        "drive.mount('/content/drive')\n",
        "import pandas as pd\n",
        "\n",
        "file_path = '/content/drive/MyDrive/Datasets/combined_data.csv'\n",
        "df = pd.read_csv(file_path)\n",
        "\n",
        "# Split the dataset into features (X) and labels (y)\n",
        "X = df['text']\n",
        "y = df['label']\n",
        "\n",
        "# Preprocess the text data (optional)\n",
        "# Perform any necessary preprocessing steps on the text data, such as removing stopwords, applying stemming/lemmatization, or handling missing values.\n",
        "\n",
        "# Split the data into training and testing sets\n",
        "from sklearn.model_selection import train_test_split\n",
        "\n",
        "X_train, X_test, y_train, y_test = train_test_split(X, y, test_size=0.2, random_state=42)\n",
        "\n",
        "# Vectorize the text data\n",
        "from sklearn.feature_extraction.text import CountVectorizer\n",
        "\n",
        "vectorizer = CountVectorizer()\n",
        "X_train_transformed = vectorizer.fit_transform(X_train)\n",
        "X_test_transformed = vectorizer.transform(X_test)\n",
        "\n",
        "# Train a Naive Bayes classifier\n",
        "from sklearn.naive_bayes import MultinomialNB\n",
        "\n",
        "classifier = MultinomialNB()\n",
        "classifier.fit(X_train_transformed, y_train)\n",
        "\n",
        "# Make predictions on the test set\n",
        "y_pred = classifier.predict(X_test_transformed)\n",
        "\n",
        "# Evaluate the model\n",
        "from sklearn.metrics import accuracy_score\n",
        "\n",
        "accuracy = accuracy_score(y_test, y_pred)\n",
        "print('Accuracy:', accuracy)\n",
        "\n",
        "# Count the number of ham and spam emails in the dataset\n",
        "num_ham = df[df['label'] == 0].shape[0]\n",
        "num_spam = df[df['label'] == 1].shape[0]\n",
        "print('Number of ham emails:', num_ham)\n",
        "print('Number of spam emails:', num_spam)\n",
        "\n",
        "# Url of dataset use it\n",
        "#https://drive.google.com/file/d/1v4NVqX4qhG-5RTHo6rlZq75X9ndHyii5/view?usp=sharing\n",
        "\n",
        "# Display example ham and spam emails\n",
        "ham_samples = df[df['label'] == 0].sample(5)\n",
        "spam_samples = df[df['label'] == 1].sample(5)\n",
        "print('Example ham emails:')\n",
        "print(ham_samples['text'])\n",
        "print('Example spam emails:')\n",
        "print(spam_samples['text'])"
      ],
      "metadata": {
        "colab": {
          "base_uri": "https://localhost:8080/"
        },
        "id": "Qfpvd4TKZqvb",
        "outputId": "45bf1df5-37b2-4426-ea49-c533a98bb9a8"
      },
      "execution_count": 2,
      "outputs": [
        {
          "output_type": "stream",
          "name": "stdout",
          "text": [
            "Drive already mounted at /content/drive; to attempt to forcibly remount, call drive.mount(\"/content/drive\", force_remount=True).\n",
            "Accuracy: 0.9761533852606351\n",
            "Number of ham emails: 39538\n",
            "Number of spam emails: 43910\n",
            "Example ham emails:\n",
            "39071    period ending 11 / 09 / 01 .\\nplease note chan...\n",
            "2092     send msn list mailing list submissions to msn ...\n",
            "81924    hi i'm struggling with the use of the xml simp...\n",
            "78121    these guys are using the technology we saw las...\n",
            "48556    the attached patch is currently used in debian...\n",
            "Name: text, dtype: object\n",
            "Example spam emails:\n",
            "55076    anatrim  the up to the moment and most enchan...\n",
            "45600    buy must have pills and save upto escapenumber...\n",
            "41992    http agreeput hkviagra escapenumber pills x es...\n",
            "25713    dear customer it's not a secret that there are...\n",
            "79560    you only think you ' re a\\nu . s . citizen ! !...\n",
            "Name: text, dtype: object\n"
          ]
        }
      ]
    }
  ]
}